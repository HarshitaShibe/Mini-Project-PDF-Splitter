{
  "nbformat": 4,
  "nbformat_minor": 0,
  "metadata": {
    "colab": {
      "provenance": [],
      "authorship_tag": "ABX9TyNxgaxPXo3UFeehuT2EOnYh",
      "include_colab_link": true
    },
    "kernelspec": {
      "name": "python3",
      "display_name": "Python 3"
    },
    "language_info": {
      "name": "python"
    }
  },
  "cells": [
    {
      "cell_type": "markdown",
      "metadata": {
        "id": "view-in-github",
        "colab_type": "text"
      },
      "source": [
        "<a href=\"https://colab.research.google.com/github/HarshitaShibe/Mini-Project-PDF-Splitter/blob/main/Mini_Project_PDF_Splitter.ipynb\" target=\"_parent\"><img src=\"https://colab.research.google.com/assets/colab-badge.svg\" alt=\"Open In Colab\"/></a>"
      ]
    },
    {
      "cell_type": "markdown",
      "source": [
        "# **Mini Project : PDF Splitter**"
      ],
      "metadata": {
        "id": "3cYEWjNxZuVW"
      }
    },
    {
      "cell_type": "markdown",
      "source": [
        "A simple Python utility that splits a PDF into two parts at a specified page number using PyPDF2. Ideal for quickly separating chapters, sections, or portions of a large document.\n",
        "\n"
      ],
      "metadata": {
        "id": "h88pA6J0Z3lm"
      }
    },
    {
      "cell_type": "code",
      "execution_count": 14,
      "metadata": {
        "colab": {
          "base_uri": "https://localhost:8080/"
        },
        "id": "RwWVbuApCtdO",
        "outputId": "af926386-641c-4d42-934e-d302a3905c29"
      },
      "outputs": [
        {
          "output_type": "stream",
          "name": "stdout",
          "text": [
            "Requirement already satisfied: PyPDF2 in /usr/local/lib/python3.11/dist-packages (3.0.1)\n"
          ]
        }
      ],
      "source": [
        "# Installling the Packages\n",
        "!pip install PyPDF2 # This package allows manipulation of pdf files"
      ]
    },
    {
      "cell_type": "code",
      "source": [
        "# Importing the Libraries\n",
        "import os # For file/directory operations\n",
        "from PyPDF2 import PdfReader, PdfWriter # used to read an existing pdf, used to write pdf chunks\n",
        "\n",
        "# Main Function\n",
        "def split_pdf(input_pdf,output_dir, split_page): # path to pdf file, directory where split files will be saved, no. of pages per output split file\n",
        "  if not os.path.exists(output_dir): # Checks if the output_dir exists.\n",
        "    os.makedirs(output_dir) # If not, it creates that folder.\n",
        "\n",
        "  pdf = PdfReader(open(input_pdf,\"rb\")) # Opens the PDF in read-binary mode.\n",
        "  total_pages = len(pdf.pages) # Counts no. pages are in the original PDF.\n",
        "  if split_page < 1 or split_page >= total_pages :\n",
        "    raise ValueError(\"Split page number must be between 1 and (total number of pages - 1)\")\n",
        "  part1_writter = PdfWriter()\n",
        "  part2_writter = PdfWriter()\n",
        "\n",
        "  for page_num in range(total_pages):\n",
        "    if page_num < split_page:\n",
        "      part1_writter.add_page(pdf.pages[page_num])\n",
        "    else:\n",
        "      part2_writter.add_page(pdf.pages[page_num])\n",
        "# Creating the paths for saving 2 new PDFs into output directory\n",
        "  part1_filename = os.path.join(output_dir, \"part1.pdf\")\n",
        "  part2_filename = os.path.join(output_dir, \"part2.pdf\")\n",
        "# Opening the output files in write-binary mode and saves each part to disk\n",
        "  with open(part1_filename, \"wb\") as part1_file:\n",
        "    part1_writter.write(part1_file)\n",
        "  with open(part2_filename, \"wb\") as part2_file:\n",
        "    part2_writter.write(part2_filename)\n",
        "# Confirming File Creation by printing the file paths of 2 pdfs\n",
        "  print(f'Created: {part1_filename}')\n",
        "  print(f'Created: {part2_filename}')\n",
        "\n",
        "\n",
        "\n",
        "# This part only run if the file is executed as a script (not imported).\n",
        "# Defines the input and output paths.\n",
        "# Calls the split_every_page() function.\n",
        "if __name__ == \"__main__\":\n",
        "  input_pdf = r'/content/Research (1).pdf' # Replace with the path to your input PDF file\n",
        "  output_dir = './content/output' # Replace with the directory where you want to save the output PDFs\n",
        "  split_page = int(input(\"Enter the page number where you want to split the PDF: \"))\n",
        "  split_pdf(input_pdf, output_dir, split_page)\n",
        "\n"
      ],
      "metadata": {
        "colab": {
          "base_uri": "https://localhost:8080/"
        },
        "id": "8GCBfFljDD67",
        "outputId": "a0caeb20-ae24-4b81-e595-72dade04c2dd"
      },
      "execution_count": 15,
      "outputs": [
        {
          "output_type": "stream",
          "name": "stdout",
          "text": [
            "Enter the page number where you want to split the PDF: 5\n",
            "Created: ./content/output/part1.pdf\n",
            "Created: ./content/output/part2.pdf\n"
          ]
        }
      ]
    }
  ]
}